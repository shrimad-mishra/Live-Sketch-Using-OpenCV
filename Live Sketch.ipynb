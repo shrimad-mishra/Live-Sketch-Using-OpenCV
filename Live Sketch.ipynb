{
 "cells": [
  {
   "cell_type": "code",
   "execution_count": 8,
   "metadata": {},
   "outputs": [],
   "source": [
    "# importing the opencv module and other required module\n",
    "\n",
    "import numpy as np\n",
    "import cv2"
   ]
  },
  {
   "cell_type": "code",
   "execution_count": 9,
   "metadata": {},
   "outputs": [],
   "source": [
    "# Now we need a live video so I am going to use my webcam you can use any video or image\n",
    "\n",
    "cap = cv2.VideoCapture(0)\n"
   ]
  },
  {
   "cell_type": "code",
   "execution_count": 12,
   "metadata": {},
   "outputs": [],
   "source": [
    "# As we know videos are read frame wise so we need a infinie loop to read and do the furter function\n",
    "while True:\n",
    "     # We know the read return two paratmeters one boolean and other the array[video]\n",
    "        ret , frame = cap.read()\n",
    "        # Now if ret is false then we will break our loop \n",
    "        if ret == False:\n",
    "            break\n",
    "        # Now we need to change the captured frame to gray \n",
    "        gray = cv2.cvtColor(frame,cv2.COLOR_BGR2GRAY)\n",
    "        \n",
    "        blur = cv2.GaussianBlur(gray,(5,5),0)\n",
    "        \n",
    "        blur_1 = cv2.GaussianBlur(frame,(5,5),1)\n",
    "                \n",
    "        edge = cv2.Canny(blur,60,90)\n",
    "        \n",
    "        edge_1 = cv2.Canny(blur_1,60,90)\n",
    "        \n",
    "        cv2.imshow('Edge-Image',edge)\n",
    "        cv2.imshow('Edges-Image',edge_1)\n",
    "        \n",
    "        a = cv2.waitKey(1)\n",
    "        if a == ord('q'):\n",
    "            break\n",
    "\n",
    "cap.release()\n",
    "cv2.destroyAllWindows()"
   ]
  },
  {
   "cell_type": "code",
   "execution_count": null,
   "metadata": {},
   "outputs": [],
   "source": []
  }
 ],
 "metadata": {
  "kernelspec": {
   "display_name": "Python 3",
   "language": "python",
   "name": "python3"
  },
  "language_info": {
   "codemirror_mode": {
    "name": "ipython",
    "version": 3
   },
   "file_extension": ".py",
   "mimetype": "text/x-python",
   "name": "python",
   "nbconvert_exporter": "python",
   "pygments_lexer": "ipython3",
   "version": "3.8.3"
  }
 },
 "nbformat": 4,
 "nbformat_minor": 4
}
